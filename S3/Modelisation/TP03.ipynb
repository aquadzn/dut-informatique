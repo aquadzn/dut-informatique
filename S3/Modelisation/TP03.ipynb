{
 "cells": [
  {
   "cell_type": "code",
   "execution_count": 11,
   "metadata": {
    "collapsed": true
   },
   "outputs": [],
   "source": [
    "import numpy as np\n",
    "import matplotlib.pyplot as plt"
   ]
  },
  {
   "cell_type": "code",
   "execution_count": 12,
   "metadata": {
    "collapsed": false
   },
   "outputs": [],
   "source": [
    "matP = np.array([[2, 4, 0, 1], [0, 1, 1, 1]])"
   ]
  },
  {
   "cell_type": "code",
   "execution_count": 13,
   "metadata": {
    "collapsed": false
   },
   "outputs": [
    {
     "data": {
      "text/plain": [
       "array([[2, 4, 0, 1],\n",
       "       [0, 1, 1, 1]])"
      ]
     },
     "execution_count": 13,
     "metadata": {},
     "output_type": "execute_result"
    }
   ],
   "source": [
    "matP"
   ]
  },
  {
   "cell_type": "code",
   "execution_count": 14,
   "metadata": {
    "collapsed": false
   },
   "outputs": [],
   "source": [
    "v1 = matP[:, 0].reshape(2, 1)\n",
    "v2 = matP[:, 2].reshape(2, 1)"
   ]
  },
  {
   "cell_type": "code",
   "execution_count": 21,
   "metadata": {
    "collapsed": false
   },
   "outputs": [
    {
     "data": {
      "text/plain": [
       "array([0])"
      ]
     },
     "execution_count": 21,
     "metadata": {},
     "output_type": "execute_result"
    }
   ],
   "source": [
    "sum([i * j for i, j in zip(a)])"
   ]
  },
  {
   "cell_type": "code",
   "execution_count": 32,
   "metadata": {
    "collapsed": false
   },
   "outputs": [
    {
     "ename": "ValueError",
     "evalue": "shapes (2,1) and (2,1) not aligned: 1 (dim 1) != 2 (dim 0)",
     "output_type": "error",
     "traceback": [
      "\u001b[0;31m---------------------------------------------------------------------------\u001b[0m",
      "\u001b[0;31mValueError\u001b[0m                                Traceback (most recent call last)",
      "\u001b[0;32m<ipython-input-32-4e1a20d7aecf>\u001b[0m in \u001b[0;36m<module>\u001b[0;34m()\u001b[0m\n\u001b[0;32m----> 1\u001b[0;31m \u001b[0mnp\u001b[0m\u001b[0;34m.\u001b[0m\u001b[0mdot\u001b[0m\u001b[0;34m(\u001b[0m\u001b[0mv1\u001b[0m\u001b[0;34m,\u001b[0m \u001b[0mv2\u001b[0m\u001b[0;34m)\u001b[0m\u001b[0;34m\u001b[0m\u001b[0m\n\u001b[0m",
      "\u001b[0;31mValueError\u001b[0m: shapes (2,1) and (2,1) not aligned: 1 (dim 1) != 2 (dim 0)"
     ]
    }
   ],
   "source": [
    "np.dot(v1, v2)"
   ]
  },
  {
   "cell_type": "code",
   "execution_count": 33,
   "metadata": {
    "collapsed": true
   },
   "outputs": [],
   "source": [
    "def visu_point(matPoint,style):\n",
    "    # matPoint contient les coordonnées des points \n",
    "    x = matPoint[0, :]\n",
    "    y = matPoint[1, :]\n",
    "    plt.plot(x, y, style)\n",
    "    \n",
    "def visu_segment(P1,P2,style):\n",
    "    # attention P1 et P2 sont des tableaux (2,1)\n",
    "    matP = np.concatenate((P1,P2),1)\n",
    "    visu_point(matP,style)\n",
    "    \n",
    "def mat_rotation(theta):\n",
    "    # si pas besoin des coordonnées homogènes\n",
    "    mat = np.array([[np.cos(theta), -np.sin(theta)],\n",
    "                    [np.sin(theta), np.cos(theta)]])\n",
    "    return mat"
   ]
  },
  {
   "cell_type": "code",
   "execution_count": 165,
   "metadata": {
    "collapsed": true
   },
   "outputs": [],
   "source": [
    "def produit_scalaire(v1, v2):\n",
    "    return np.dot(np.transpose(v1), v2)"
   ]
  },
  {
   "cell_type": "markdown",
   "metadata": {},
   "source": [
    "## Prog 1"
   ]
  },
  {
   "cell_type": "code",
   "execution_count": 201,
   "metadata": {
    "collapsed": false
   },
   "outputs": [
    {
     "data": {
      "image/png": "[encoded data removed]",
      "text/plain": [
       "<matplotlib.figure.Figure at 0x7f1880671a90>"
      ]
     },
     "metadata": {},
     "output_type": "display_data"
    }
   ],
   "source": [
    "plt.close()\n",
    "plt.axis('scaled') # la position est importante\n",
    "max=15\n",
    "plt.xlim(-max-1, max+1)  \n",
    "plt.ylim(-max-1, max+1)\n",
    "\n",
    "nP=100  # nombre de points choisis aléatoirement \n",
    "\n",
    "matP = np.random.rand(2,nP)*2*max -max\n",
    "visu_point(matP,'c.')\n",
    "\n",
    "# rotation aléatoire d'un objet posé à l'origine :\n",
    "##################################################################\n",
    "\n",
    "matP_objet_init = np.array([[-5, -1, 0, 1, 5],\n",
    "                            [ 0,  0, 2, 0, 0]])\n",
    "P_origine = np.array([[0],\n",
    "                      [0]])\n",
    "vecN_init = np.array([[0], \n",
    "                      [3]])\n",
    "    \n",
    "#visu_point(matP_objet_init,'g-')\n",
    "#visu_segment(P_origine, P_origine + vecN_init, 'g-')\n",
    "\n",
    "theta_alea = np.random.rand()*2*np.pi\n",
    "\n",
    "matP_objet = np.dot(mat_rotation(theta_alea),matP_objet_init)\n",
    "\n",
    "vecN = np.dot(mat_rotation(theta_alea),vecN_init)\n",
    "\n",
    "\n",
    "visu_point(matP_objet,'k-')\n",
    "visu_segment(P_origine, P_origine + vecN, 'k-')\n",
    "\n",
    "\n",
    "# vision réduite d'un angle theta de chaque côté :\n",
    "##################################################################\n",
    "\n",
    "theta = 0  # choisir un autre angle si vision réduite\n",
    "\n",
    "\n",
    "\n",
    "# tester la visibilité de chaque Point :\n",
    "##################################################################\n",
    "# affichage en rouge si visible\n",
    "\n",
    "P_droite = P_origine  # le point sur \" la droite \"\n",
    "\n",
    "for i in range(matP[0].size):\n",
    "    p = matP[:, i]\n",
    "    if produit_scalaire(vecN, p) > 0:\n",
    "        plt.plot(p[0], p[1], \"r.\")\n",
    "\n",
    "\n",
    "visu_point(matP_objet,'k-')\n",
    "visu_segment(P_origine, P_origine + vecN, 'k-')\n",
    "\n",
    "plt.show()"
   ]
  },
  {
   "cell_type": "markdown",
   "metadata": {},
   "source": [
    "## Prog 2"
   ]
  },
  {
   "cell_type": "code",
   "execution_count": null,
   "metadata": {
    "collapsed": true
   },
   "outputs": [],
   "source": []
  }
 ],
 "metadata": {
  "anaconda-cloud": {},
  "kernelspec": {
   "display_name": "Python [default]",
   "language": "python",
   "name": "python3"
  },
  "language_info": {
   "codemirror_mode": {
    "name": "ipython",
    "version": 3
   },
   "file_extension": ".py",
   "mimetype": "text/x-python",
   "name": "python",
   "nbconvert_exporter": "python",
   "pygments_lexer": "ipython3",
   "version": "3.5.2"
  }
 },
 "nbformat": 4,
 "nbformat_minor": 5
}
