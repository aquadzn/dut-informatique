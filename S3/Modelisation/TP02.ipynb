{
 "cells": [
  {
   "cell_type": "code",
   "execution_count": 38,
   "metadata": {
    "collapsed": true
   },
   "outputs": [],
   "source": [
    "import numpy as np  \n",
    "import matplotlib.pyplot as plt"
   ]
  },
  {
   "cell_type": "code",
   "execution_count": 39,
   "metadata": {
    "collapsed": true
   },
   "outputs": [],
   "source": [
    "def trace_cercle(a, b, r):\n",
    "    t = np.linspace(0, np.pi*2,30)\n",
    "    x = a + np.cos(t)*r\n",
    "    y = b + np.sin(t)*r\n",
    "    plt.plot(x,y,'r:')\n",
    "   \n",
    "    \n",
    "def trace_droite(pente, b):\n",
    "    x = np.linspace(xmin, xmax,30)\n",
    "    y = pente*x + b\n",
    "    plt.plot(x,y,'b:')\n",
    " \n",
    "    \n",
    "def matP_homogene(matP):  \n",
    "    # la matrice des points écrits en coordonnées homogènes\n",
    "    nP=matP.shape[1] \n",
    "    matP_h = np.concatenate((matP,np.ones((1,nP))),0)\n",
    "    return matP_h\n",
    "\n",
    "\n",
    "def affiche_polygone(matP, string):\n",
    "## en ajoutant le point final    \n",
    "#    pointdebut=matP[:,0]\n",
    "#    pointdebut=pointdebut.reshape(pointdebut.shape[0],1)\n",
    "#    matP=np.concatenate((matP,pointdebut),1)\n",
    "#    # on peut faire directement cela :\n",
    "    x = matP[0, :]\n",
    "    y = matP[1, :]\n",
    "    plt.plot(x, y, string)\n",
    "\n",
    "\n",
    "def mat_Rotation_h(theta):\n",
    "    mat = np.array([[np.cos(theta), -np.sin(theta), 0],\n",
    "                    [np.sin(theta), np.cos(theta), 0],\n",
    "                    [0, 0, 1]])\n",
    "    return mat\n",
    "\n",
    "\n",
    "def mat_Translation_h(tx,ty):\n",
    "    mat = np.array([[1, 0, tx],\n",
    "                    [0, 1, ty],\n",
    "                    [0, 0, 1]])\n",
    "    return mat\n",
    "\n",
    "\n",
    "def mat_Reflexion_axe1():\n",
    "    mat = np.array([[1, 0, 0],\n",
    "                    [0, -1, 0],\n",
    "                    [0, 0, 1]])\n",
    "    return mat\n",
    "\n",
    "\n",
    "def mat_Scale_h(sx,sy):\n",
    "    mat = np.array([[sx, 0, 0],\n",
    "                    [0, sy, 0],\n",
    "                    [0, 0, 1]])\n",
    "    return mat"
   ]
  },
  {
   "cell_type": "markdown",
   "metadata": {},
   "source": [
    "# Ex 1"
   ]
  },
  {
   "cell_type": "code",
   "execution_count": 175,
   "metadata": {
    "collapsed": true
   },
   "outputs": [],
   "source": [
    "plt.close()"
   ]
  },
  {
   "cell_type": "code",
   "execution_count": 176,
   "metadata": {
    "collapsed": false
   },
   "outputs": [],
   "source": [
    "plt.axis('scaled') # la position est importante\n",
    "xmin, xmax = plt.xlim(-10, 30)  # pour délimiter la fenêtre\n",
    "ymin, ymax = plt.ylim(-10, 25)\n",
    "\n",
    "r=6\n",
    "trace_cercle(0, 0, r)\n",
    "plt.plot([0], [0], 'ro')\n",
    "\n",
    "matP = np.array([\n",
    "    [0, 1, 0, 0],\n",
    "    [6, 6, 8, 6]\n",
    "])\n",
    "\n",
    "matP=matP_homogene(matP)\n",
    "\n",
    "affiche_polygone(matP, \"y-\")\n",
    "\n",
    "for i in np.linspace(0, np.pi * 2, 30)[:-1]:\n",
    "    matP1 = np.dot(mat_Rotation_h(i), matP)\n",
    "    affiche_polygone(matP1, \"b-\")"
   ]
  },
  {
   "cell_type": "markdown",
   "metadata": {},
   "source": [
    "# Ex 2"
   ]
  },
  {
   "cell_type": "code",
   "execution_count": 177,
   "metadata": {
    "collapsed": false
   },
   "outputs": [],
   "source": [
    "# une matrice de points choisis aléatoirement \n",
    "# chaque coordonnée suit une loi uniforme sur l'intervalle [0,1]    \n",
    "matP_alea=np.random.rand(2,20)\n",
    "P_origine=np.array([[0], [0]])  # on peut ajouter l'origine à ces points\n",
    "matP_alea=np.concatenate((matP_alea,P_origine),1)\n",
    "matP_alea=matP_homogene(matP_alea)\n",
    "affiche_polygone(matP_alea, 'k-')\n",
    "\n",
    "# Agrandir une première fois :\n",
    "matP_alea_1 = np.dot(mat_Scale_h(r, r), matP_alea)\n",
    "affiche_polygone(matP_alea_1, 'y-')"
   ]
  },
  {
   "cell_type": "code",
   "execution_count": 178,
   "metadata": {
    "collapsed": false
   },
   "outputs": [],
   "source": [
    "theta = np.pi * 0.2\n",
    "pente = np.tan(theta)\n",
    "trace_droite(pente, 0)\n",
    "\n",
    "\n",
    "matP_alea_2 = np.dot(\n",
    "    mat_Translation_h(12, 12 * pente),\n",
    "    np.dot(\n",
    "        mat_Rotation_h(0.2),\n",
    "        np.dot(\n",
    "            mat_Scale_h(2, 2),\n",
    "            matP_alea_1\n",
    "        ),\n",
    "    )\n",
    ")\n",
    "\n",
    "affiche_polygone(matP_alea_2, 'y-')"
   ]
  },
  {
   "cell_type": "code",
   "execution_count": 180,
   "metadata": {
    "collapsed": false
   },
   "outputs": [],
   "source": [
    "matP_alea_3 = np.dot(\n",
    "    mat_Reflexion_axe1(),\n",
    "    matP_alea_2\n",
    ")\n",
    "affiche_polygone(matP_alea_3, 'k-')"
   ]
  },
  {
   "cell_type": "code",
   "execution_count": 181,
   "metadata": {
    "collapsed": false
   },
   "outputs": [
    {
     "data": {
      "image/png": "[encoded data removed]",
      "text/plain": [
       "<matplotlib.figure.Figure at 0x7ff596a3eeb8>"
      ]
     },
     "metadata": {},
     "output_type": "display_data"
    }
   ],
   "source": [
    "plt.show()"
   ]
  },
  {
   "cell_type": "code",
   "execution_count": null,
   "metadata": {
    "collapsed": true
   },
   "outputs": [],
   "source": []
  }
 ],
 "metadata": {
  "anaconda-cloud": {},
  "kernelspec": {
   "display_name": "Python [conda root]",
   "language": "python",
   "name": "conda-root-py"
  },
  "language_info": {
   "codemirror_mode": {
    "name": "ipython",
    "version": 3
   },
   "file_extension": ".py",
   "mimetype": "text/x-python",
   "name": "python",
   "nbconvert_exporter": "python",
   "pygments_lexer": "ipython3",
   "version": "3.5.2"
  }
 },
 "nbformat": 4,
 "nbformat_minor": 1
}
