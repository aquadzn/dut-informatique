{
 "cells": [
  {
   "cell_type": "code",
   "execution_count": 1,
   "metadata": {
    "collapsed": true
   },
   "outputs": [],
   "source": [
    "import numpy as np  \n",
    "import matplotlib.pyplot as plt\n",
    "import numpy.random as alea"
   ]
  },
  {
   "cell_type": "code",
   "execution_count": 15,
   "metadata": {
    "collapsed": true
   },
   "outputs": [],
   "source": [
    "def visu_point(matPoint,style):\n",
    "    # matPoint contient les coordonnées des points \n",
    "    x = matPoint[0, :]\n",
    "    y = matPoint[1, :]\n",
    "    plt.plot(x, y, style)\n",
    "    \n",
    "def visu_segment(P1,P2,style):\n",
    "    # attention P1 et P2 sont des tableaux (2,1)\n",
    "    matP = np.concatenate((P1,P2),1)\n",
    "    visu_point(matP,style)\n",
    "    \n",
    "def mat_rotation(theta):\n",
    "    # si pas besoin des coordonnées homogènes\n",
    "    mat = np.array([[np.cos(theta), -np.sin(theta)],\n",
    "                    [np.sin(theta), np.cos(theta)]])\n",
    "    return mat"
   ]
  },
  {
   "cell_type": "code",
   "execution_count": 16,
   "metadata": {
    "collapsed": true
   },
   "outputs": [],
   "source": [
    "def visu_BezierQuad(matPointControl,str):\n",
    "    n=50\n",
    "    mt = np.linspace(0,1.,n)  \n",
    "    matt = np.ones((3,n))  # que des 1\n",
    "    matt[1,:] = mt  # ligne avec les t\n",
    "    matt[2,:] = mt*mt  # ligne avec les t*t\n",
    "\n",
    "    matBezier3 = np.array([[1, 0, 0], \n",
    "                           [-2, 2, 0], \n",
    "                           [1, -2, 1]])\n",
    "\n",
    "    matPointligne = np.dot(np.dot(matt.T,matBezier3),matPointControl.T)\n",
    "    matPoint=matPointligne.T  # on transpose\n",
    "\n",
    "    visu_point(matPointControl,'r.')\n",
    "    visu_point(matPointControl,'b:')\n",
    "    visu_point(matPoint,str)"
   ]
  },
  {
   "cell_type": "code",
   "execution_count": 17,
   "metadata": {
    "collapsed": false
   },
   "outputs": [],
   "source": [
    "def visu_BezierCubic(matPointControl,str):\n",
    "    n=50\n",
    "    mt = np.linspace(0,1.,n)  \n",
    "    matt = np.ones((4,n))\n",
    "    matt[1,:] = mt\n",
    "    matt[2,:] = mt*mt\n",
    "    matt[3,:] = mt*mt*mt\n",
    "    \n",
    "    matBezier4 = np.array([\n",
    "            [1, 0, 0, 0],\n",
    "            [-3, 3, 0, 0],\n",
    "            [3, -6, 3, 0],\n",
    "            [-1, 3, -3, 1]\n",
    "        ])\n",
    "    \n",
    "    matPointligne = np.dot(np.dot(matt.T,matBezier4),matPointControl.T)\n",
    "    matPoint=matPointligne.T  # on transpose\n",
    "\n",
    "    visu_point(matPointControl,'k.')\n",
    "    visu_point(matPointControl,'g:')\n",
    "    visu_point(matPoint,str)"
   ]
  },
  {
   "cell_type": "markdown",
   "metadata": {},
   "source": [
    "# courbe de Bezier quadratique : un exemple  ***************"
   ]
  },
  {
   "cell_type": "code",
   "execution_count": 18,
   "metadata": {
    "collapsed": false
   },
   "outputs": [
    {
     "data": {
      "text/plain": [
       "(-12, 12)"
      ]
     },
     "execution_count": 18,
     "metadata": {},
     "output_type": "execute_result"
    }
   ],
   "source": [
    "plt.axis('scaled') # la position est importante\n",
    "taille=11\n",
    "plt.xlim(-taille-1, taille+1+5)  \n",
    "plt.ylim(-taille-1, taille+1)"
   ]
  },
  {
   "cell_type": "code",
   "execution_count": 19,
   "metadata": {
    "collapsed": false
   },
   "outputs": [],
   "source": [
    "matPointControl = np.array([\n",
    "        [0, 0],\n",
    "        [1, 6],\n",
    "        [5, 0]\n",
    "    ])"
   ]
  },
  {
   "cell_type": "code",
   "execution_count": 20,
   "metadata": {
    "collapsed": false
   },
   "outputs": [],
   "source": [
    "visu_BezierQuad(matPointControl.T, \"-r\")"
   ]
  },
  {
   "cell_type": "code",
   "execution_count": 202,
   "metadata": {
    "collapsed": true
   },
   "outputs": [
    {
     "data": {
      "image/png": "[encoded data removed]",
      "text/plain": [
       "<matplotlib.figure.Figure at 0x7fe4009463c8>"
      ]
     },
     "metadata": {},
     "output_type": "display_data"
    }
   ],
   "source": [
    "plt.show()"
   ]
  },
  {
   "cell_type": "markdown",
   "metadata": {},
   "source": [
    "# effectuer une rotation de cette courbe : ********************"
   ]
  },
  {
   "cell_type": "code",
   "execution_count": 42,
   "metadata": {
    "collapsed": false
   },
   "outputs": [
    {
     "data": {
      "text/plain": [
       "(-12, 12)"
      ]
     },
     "execution_count": 42,
     "metadata": {},
     "output_type": "execute_result"
    }
   ],
   "source": [
    "plt.axis('scaled') # la position est importante\n",
    "taille=11\n",
    "plt.xlim(-taille-1, taille+1+5)  \n",
    "plt.ylim(-taille-1, taille+1)"
   ]
  },
  {
   "cell_type": "code",
   "execution_count": 21,
   "metadata": {
    "collapsed": false
   },
   "outputs": [],
   "source": [
    "visu_BezierQuad(matPointControl.T, \"-r\")\n",
    "for i in np.linspace(1, np.pi, 4):\n",
    "    visu_BezierQuad(np.dot(mat_rotation(i), matPointControl.T), \"-b\")"
   ]
  },
  {
   "cell_type": "code",
   "execution_count": 44,
   "metadata": {
    "collapsed": false
   },
   "outputs": [
    {
     "data": {
      "image/png": "[encoded data removed]",
      "text/plain": [
       "<matplotlib.figure.Figure at 0x7f6a6e960320>"
      ]
     },
     "metadata": {},
     "output_type": "display_data"
    }
   ],
   "source": [
    "plt.show()"
   ]
  },
  {
   "cell_type": "markdown",
   "metadata": {},
   "source": [
    "# courbe de Bezier cubique : un exemple  ***************"
   ]
  },
  {
   "cell_type": "markdown",
   "metadata": {},
   "source": [
    "$$P(t) = (1−t)3P0+ 3t(1−t)2P1+ 3t2(1−t)P2+t3P3$$"
   ]
  },
  {
   "cell_type": "code",
   "execution_count": 80,
   "metadata": {
    "collapsed": false
   },
   "outputs": [
    {
     "data": {
      "text/plain": [
       "(-12, 12)"
      ]
     },
     "execution_count": 80,
     "metadata": {},
     "output_type": "execute_result"
    }
   ],
   "source": [
    "plt.axis('scaled') # la position est importante\n",
    "taille=11\n",
    "plt.xlim(-taille-1, taille+1+5)\n",
    "plt.ylim(-taille-1, taille+1)"
   ]
  },
  {
   "cell_type": "code",
   "execution_count": 81,
   "metadata": {
    "collapsed": true
   },
   "outputs": [],
   "source": [
    "t = 2\n",
    "mat4P1 = np.array([\n",
    "    [-10, 10],\n",
    "    [-8, 3],\n",
    "    [-5, 11],\n",
    "    [0, 8]\n",
    "    ])\n",
    "\n",
    "mat4P2 = np.array([\n",
    "    [6, 2],\n",
    "    [4, 10],\n",
    "    [12, 7],\n",
    "    [3, 4]\n",
    "    ])\n",
    "\n",
    "mat4P3 = np.array([\n",
    "    [2, -3],\n",
    "    [0, -10],\n",
    "    [10, 0],\n",
    "    [10, -5]\n",
    "    ])\n",
    "\n",
    "mat4P4 = np.array([\n",
    "    [10, -5],\n",
    "    (1 - t) * mat4P3[2] + t * mat4P3[3],\n",
    "    [3, -8],\n",
    "    [13, -6]\n",
    "    ])"
   ]
  },
  {
   "cell_type": "code",
   "execution_count": 82,
   "metadata": {
    "collapsed": true
   },
   "outputs": [],
   "source": [
    "visu_BezierCubic(mat4P1.T, \"-k\")\n",
    "visu_BezierCubic(mat4P2.T, \"-k\")\n",
    "visu_BezierCubic(mat4P3.T, \"-k\")\n",
    "visu_BezierCubic(mat4P4.T, \"-\")"
   ]
  },
  {
   "cell_type": "code",
   "execution_count": 83,
   "metadata": {
    "collapsed": false,
    "scrolled": true
   },
   "outputs": [
    {
     "data": {
      "image/png": "[encoded data removed]",
      "text/plain": [
       "<matplotlib.figure.Figure at 0x7f1512043be0>"
      ]
     },
     "metadata": {},
     "output_type": "display_data"
    }
   ],
   "source": [
    "plt.show()"
   ]
  },
  {
   "cell_type": "code",
   "execution_count": null,
   "metadata": {
    "collapsed": true
   },
   "outputs": [],
   "source": []
  }
 ],
 "metadata": {
  "anaconda-cloud": {},
  "kernelspec": {
   "display_name": "Python [default]",
   "language": "python",
   "name": "python3"
  },
  "language_info": {
   "codemirror_mode": {
    "name": "ipython",
    "version": 3
   },
   "file_extension": ".py",
   "mimetype": "text/x-python",
   "name": "python",
   "nbconvert_exporter": "python",
   "pygments_lexer": "ipython3",
   "version": "3.5.2"
  }
 },
 "nbformat": 4,
 "nbformat_minor": 1
}
