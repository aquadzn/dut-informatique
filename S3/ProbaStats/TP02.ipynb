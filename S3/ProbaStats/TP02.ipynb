{
 "cells": [
  {
   "cell_type": "code",
   "execution_count": 1,
   "metadata": {
    "collapsed": false
   },
   "outputs": [],
   "source": [
    "import numpy as np  \n",
    "import matplotlib.pyplot as plt\n",
    "import scipy.stats as stats"
   ]
  },
  {
   "cell_type": "markdown",
   "metadata": {},
   "source": [
    "# Ex 1\n",
    "\n",
    "### Calcul de la covariance et du coefficient de corrélation"
   ]
  },
  {
   "cell_type": "code",
   "execution_count": 2,
   "metadata": {
    "collapsed": true
   },
   "outputs": [],
   "source": [
    "def esperance(valX, proba):\n",
    "    return sum(valX * proba)\n",
    "\n",
    "def variance(valX, proba):\n",
    "    esp = esperance(valX, proba)\n",
    "    esp2 = esperance(valX * valX, proba)\n",
    "    var = esp2 - esp * esp\n",
    "    return var"
   ]
  },
  {
   "cell_type": "code",
   "execution_count": 13,
   "metadata": {
    "collapsed": true
   },
   "outputs": [],
   "source": [
    "def covariance(X, Y, proba):\n",
    "    return esperance((X - esperance(X, proba)) * (Y - esperance(Y, proba)), proba)"
   ]
  },
  {
   "cell_type": "code",
   "execution_count": 14,
   "metadata": {
    "collapsed": true
   },
   "outputs": [],
   "source": [
    "def ecart_type(X, proba):\n",
    "    return np.sqrt(variance(X, proba))"
   ]
  },
  {
   "cell_type": "code",
   "execution_count": 15,
   "metadata": {
    "collapsed": true
   },
   "outputs": [],
   "source": [
    "def correlation(X, Y, proba):\n",
    "    return covariance(X, Y, proba) / (ecart_type(X, proba) * ecart_type(Y, proba))"
   ]
  },
  {
   "cell_type": "code",
   "execution_count": 16,
   "metadata": {
    "collapsed": false
   },
   "outputs": [
    {
     "name": "stdout",
     "output_type": "stream",
     "text": [
      "[[-1]\n",
      " [ 0]\n",
      " [ 1]\n",
      " [-1]\n",
      " [ 0]\n",
      " [ 1]]\n",
      "\n",
      "[[ 0.]\n",
      " [ 0.]\n",
      " [ 0.]\n",
      " [ 1.]\n",
      " [ 1.]\n",
      " [ 1.]]\n",
      "\n",
      "[[-0.]\n",
      " [ 0.]\n",
      " [ 0.]\n",
      " [-1.]\n",
      " [ 0.]\n",
      " [ 1.]]\n"
     ]
    }
   ],
   "source": [
    "valeur_X_seul = [-1, 0, 1]\n",
    "valeur_Y_seul = [0, 1]\n",
    "\n",
    "lenX = len(valeur_X_seul)\n",
    "lenY = len(valeur_Y_seul)\n",
    "\n",
    "taille = lenX*lenY\n",
    "\n",
    "# des tableaux de même taille :\n",
    "\n",
    "proba_couple = np.array([[0, 1/3, 0, 1/3, 0, 1/3]]).reshape(taille,1)\n",
    "\n",
    "valeur_X = np.array([valeur_X_seul]*len(valeur_Y_seul)).reshape(taille,1)\n",
    "\n",
    "valeur_Y = np.dot(np.diag(valeur_Y_seul),np.ones((lenY,lenX))).reshape(taille,1)\n",
    "\n",
    "#valeur_Y = np.array([[0, 0, 0, 1, 1, 1]]).reshape(taille,1)\n",
    "\n",
    "valeur_XY = valeur_X*valeur_Y\n",
    "\n",
    "print(valeur_X)\n",
    "print()\n",
    "print(valeur_Y)\n",
    "print()\n",
    "print(valeur_XY)"
   ]
  },
  {
   "cell_type": "code",
   "execution_count": 20,
   "metadata": {
    "collapsed": false
   },
   "outputs": [
    {
     "data": {
      "text/plain": [
       "array([[ 0.        ],\n",
       "       [ 0.33333333],\n",
       "       [ 0.        ],\n",
       "       [ 0.33333333],\n",
       "       [ 0.        ],\n",
       "       [ 0.33333333]])"
      ]
     },
     "execution_count": 20,
     "metadata": {},
     "output_type": "execute_result"
    }
   ],
   "source": [
    "proba_couple"
   ]
  },
  {
   "cell_type": "code",
   "execution_count": 21,
   "metadata": {
    "collapsed": false
   },
   "outputs": [
    {
     "name": "stdout",
     "output_type": "stream",
     "text": [
      "[ 0.] [ 0.66666667] [ 0.] [ 0.] [ 0.]\n"
     ]
    }
   ],
   "source": [
    "esp_X = esperance(valeur_X,proba_couple)\n",
    "var_X = variance(valeur_X,proba_couple)\n",
    "\n",
    "esp_Y = esperance(valeur_Y,proba_couple)\n",
    "var_Y = variance(valeur_Y,proba_couple)\n",
    "\n",
    "esp_XY = esperance(valeur_XY,proba_couple)\n",
    "cov = covariance(valeur_X, valeur_Y, proba_couple)\n",
    "corr = correlation(valeur_X, valeur_Y, proba_couple)\n",
    "\n",
    "print(esp_X, esp_Y, esp_XY, cov, corr)"
   ]
  },
  {
   "cell_type": "markdown",
   "metadata": {},
   "source": [
    "# Ex 2\n",
    "\n",
    "### Simuler N observations d'une loi Normale"
   ]
  },
  {
   "cell_type": "code",
   "execution_count": 101,
   "metadata": {
    "collapsed": false
   },
   "outputs": [
    {
     "data": {
      "image/png": "[encoded data removed]",
      "text/plain": [
       "<matplotlib.figure.Figure at 0x7fb0e93de748>"
      ]
     },
     "metadata": {},
     "output_type": "display_data"
    }
   ],
   "source": [
    "N = 5000\n",
    "echantillon = []\n",
    "\n",
    "for k in range(N):\n",
    "    n = 200\n",
    "    U = np.random.rand(n)\n",
    "    \n",
    "    # normaliser ces valeurs afin de pouvoir utiliser le théorème (TLC) :\n",
    "    Y = (U - 0.5) * np.sqrt(12)\n",
    "    new_valeur = sum(Y) * (1 / np.sqrt(n))\n",
    "    echantillon.append(new_valeur)\n",
    "\n",
    "# visualiser l'histogramme des valeurs simulées :\n",
    "plt.hist(echantillon, bins=50, alpha=0.5)\n",
    "plt.show()"
   ]
  },
  {
   "cell_type": "markdown",
   "metadata": {},
   "source": [
    "# Ex 3\n",
    "\n",
    "### Table de la loi LNCR"
   ]
  },
  {
   "cell_type": "code",
   "execution_count": null,
   "metadata": {
    "collapsed": true
   },
   "outputs": [],
   "source": [
    "# Pour la loi Normale, retrouver des valeurs que vous pouvez lire sur la table,\n",
    "# en utilisant ces functions :\n",
    "# stats.norm.cdf()\n",
    "# stats.norm.ppf() -> permet de calculer les quantiles, la médiane par ex.\n",
    "\n",
    "# On cherche d tel que : P( m - d < X < m + d) = 1 - alpha\n",
    "# lorsque X suit une loi Normale(m,sigma)\n",
    "# Ecrire une fonction qui renvoie la valeur d \n",
    "# et ayant pour paramètres alpha, m et sigma\n",
    "\n",
    "#def ecart_autour_moy(alpha,m,sigma):\n",
    "\n",
    "\n"
   ]
  },
  {
   "cell_type": "code",
   "execution_count": 104,
   "metadata": {
    "collapsed": false
   },
   "outputs": [
    {
     "data": {
      "text/plain": [
       "array([ 0.09152786,  0.33134025,  0.22483832, ...,  0.91974877,\n",
       "        0.36875091,  0.11485829])"
      ]
     },
     "execution_count": 104,
     "metadata": {},
     "output_type": "execute_result"
    }
   ],
   "source": [
    "stats.norm.cdf(echantillon)"
   ]
  },
  {
   "cell_type": "code",
   "execution_count": null,
   "metadata": {
    "collapsed": true
   },
   "outputs": [],
   "source": []
  }
 ],
 "metadata": {
  "anaconda-cloud": {},
  "kernelspec": {
   "display_name": "Python [default]",
   "language": "python",
   "name": "python3"
  },
  "language_info": {
   "codemirror_mode": {
    "name": "ipython",
    "version": 3
   },
   "file_extension": ".py",
   "mimetype": "text/x-python",
   "name": "python",
   "nbconvert_exporter": "python",
   "pygments_lexer": "ipython3",
   "version": "3.5.2"
  }
 },
 "nbformat": 4,
 "nbformat_minor": 5
}
